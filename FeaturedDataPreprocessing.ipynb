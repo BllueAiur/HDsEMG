{
 "cells": [
  {
   "cell_type": "markdown",
   "id": "ecd32d02",
   "metadata": {},
   "source": [
    "This file reserved for feature based classifier like PCA (baseline)"
   ]
  }
 ],
 "metadata": {
  "language_info": {
   "name": "python"
  }
 },
 "nbformat": 4,
 "nbformat_minor": 5
}
