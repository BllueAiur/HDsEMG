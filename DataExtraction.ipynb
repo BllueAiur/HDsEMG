{
 "cells": [
  {
   "cell_type": "code",
   "execution_count": 1,
   "id": "10a277f2",
   "metadata": {},
   "outputs": [
    {
     "name": "stdout",
     "output_type": "stream",
     "text": [
      "Subjects in segmented_data:\n",
      " - HS1\n",
      " - HS2\n",
      " - HS3\n",
      " - HS4\n",
      " - HS5\n",
      " - HS6\n",
      " - HS7\n",
      " - HS8\n",
      "\n",
      "Details for subject: HS1\n",
      "  Gesture: rest - Number of windows: 1309, Example window shape: (64, 409)\n",
      "  Gesture: closehand - Number of windows: 187, Example window shape: (64, 409)\n",
      "  Gesture: openhand - Number of windows: 187, Example window shape: (64, 409)\n",
      "  Gesture: pointer - Number of windows: 187, Example window shape: (64, 409)\n",
      "  Gesture: thumb_ext - Number of windows: 187, Example window shape: (64, 409)\n",
      "  Gesture: thumb_flex - Number of windows: 187, Example window shape: (64, 409)\n",
      "  Gesture: wrist_ext - Number of windows: 187, Example window shape: (64, 409)\n",
      "  Gesture: wrist_flex - Number of windows: 187, Example window shape: (64, 409)\n"
     ]
    }
   ],
   "source": [
    "import pickle\n",
    "\n",
    "\n",
    "with open(\"segmented_data.pkl\", \"rb\") as f:\n",
    "    loaded_data = pickle.load(f)\n",
    "\n",
    "\n",
    "print(\"Subjects in segmented_data:\")\n",
    "for subject in loaded_data:\n",
    "    print(\" -\", subject)\n",
    "\n",
    "# Select one subject to display gesture details\n",
    "first_subject = list(loaded_data.keys())[0]\n",
    "print(\"\\nDetails for subject:\", first_subject)\n",
    "\n",
    "#  print the number of segmented windows and the shape of an example window \n",
    "for gesture, windows in loaded_data[first_subject].items():\n",
    "    num_windows = len(windows)\n",
    "    if num_windows > 0:\n",
    "        example_shape = windows[0].shape  # Each window is expected to be a 2D array (channels x window_samples)\n",
    "    else:\n",
    "        example_shape = \"N/A\"\n",
    "    print(f\"  Gesture: {gesture} - Number of windows: {num_windows}, Example window shape: {example_shape}\")"
   ]
  }
 ],
 "metadata": {
  "kernelspec": {
   "display_name": "base",
   "language": "python",
   "name": "python3"
  },
  "language_info": {
   "codemirror_mode": {
    "name": "ipython",
    "version": 3
   },
   "file_extension": ".py",
   "mimetype": "text/x-python",
   "name": "python",
   "nbconvert_exporter": "python",
   "pygments_lexer": "ipython3",
   "version": "3.12.7"
  }
 },
 "nbformat": 4,
 "nbformat_minor": 5
}
